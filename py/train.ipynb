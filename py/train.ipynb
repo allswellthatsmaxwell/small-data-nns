{
 "cells": [
  {
   "cell_type": "code",
   "execution_count": 1,
   "metadata": {},
   "outputs": [],
   "source": [
    "%load_ext autoreload\n",
    "%autoreload 2"
   ]
  },
  {
   "cell_type": "code",
   "execution_count": 57,
   "metadata": {},
   "outputs": [],
   "source": [
    "import keras\n",
    "import pandas as pd\n",
    "import os\n",
    "import importlib\n",
    "from sklearn.linear_model import LinearRegression\n",
    "from sklearn.ensemble import RandomForestRegressor\n",
    "import sklearn.metrics\n",
    "from keras.callbacks import History\n",
    "import seaborn as sns\n",
    "sns.set()\n",
    "\n",
    "try:\n",
    "    os.chdir('py')\n",
    "except FileNotFoundError:\n",
    "    pass\n",
    "import small\n",
    "from small import Splits as S\n",
    "from small import relu\n",
    "_ = importlib.reload(small)"
   ]
  },
  {
   "cell_type": "code",
   "execution_count": 74,
   "metadata": {},
   "outputs": [],
   "source": [
    "handler = small.AbaloneHandler()\n",
    "df = handler.read()\n",
    "datasets = handler.split_and_apply_transforms(df)"
   ]
  },
  {
   "cell_type": "code",
   "execution_count": 79,
   "metadata": {},
   "outputs": [],
   "source": [
    "keras.backend.clear_session()\n",
    "start_dim = datasets[S.trn]['X'].shape[1] - 1\n",
    "end_dim = 1\n",
    "model = keras.Sequential([\n",
    "    relu(dim) for dim in range(start_dim, end_dim - 1, -2)\n",
    "])\n",
    "model.compile(optimizer='adam', loss=keras.losses.MeanSquaredError())"
   ]
  },
  {
   "cell_type": "code",
   "execution_count": null,
   "metadata": {},
   "outputs": [],
   "source": [
    "epochs = 1000\n",
    "batch_size = 16 * 4\n",
    "history = model.fit(\n",
    "    datasets[S.trn]['X'], datasets[S.trn]['y'], \n",
    "    epochs=epochs, batch_size=batch_size, \n",
    "    callbacks=[History()], verbose=0,\n",
    "    validation_data=(datasets[S.val]['X'], datasets[S.val]['y']))"
   ]
  },
  {
   "cell_type": "code",
   "execution_count": null,
   "metadata": {},
   "outputs": [],
   "source": [
    "loss_df = pd.DataFrame(history.history)\n",
    "loss_df['epoch'] = range(loss_df.shape[0])\n",
    "_ = sns.lineplot(x='epoch', y='loss', data=loss_df)\n",
    "_ = sns.lineplot(x='epoch', y='val_loss', data=loss_df)"
   ]
  },
  {
   "cell_type": "code",
   "execution_count": null,
   "metadata": {},
   "outputs": [],
   "source": [
    "linreg = {}\n",
    "linreg['model'] = LinearRegression().fit(datasets[S.trn]['X'], datasets[S.trn]['y'])\n",
    "linreg['pred'] = linreg['model'].predict(datasets[S.val]['X'])\n",
    "sklearn.metrics.mean_squared_error(linreg['pred'], datasets[S.val]['y'])"
   ]
  },
  {
   "cell_type": "code",
   "execution_count": null,
   "metadata": {},
   "outputs": [],
   "source": [
    "nn_pred = model.predict(datasets[S.val]['X'])\n",
    "sklearn.metrics.mean_squared_error(nn_pred, datasets[S.val]['y'])"
   ]
  },
  {
   "cell_type": "code",
   "execution_count": null,
   "metadata": {},
   "outputs": [],
   "source": []
  },
  {
   "cell_type": "code",
   "execution_count": null,
   "metadata": {},
   "outputs": [],
   "source": []
  }
 ],
 "metadata": {
  "kernelspec": {
   "display_name": "Python 3",
   "language": "python",
   "name": "python3"
  },
  "language_info": {
   "codemirror_mode": {
    "name": "ipython",
    "version": 3
   },
   "file_extension": ".py",
   "mimetype": "text/x-python",
   "name": "python",
   "nbconvert_exporter": "python",
   "pygments_lexer": "ipython3",
   "version": "3.8.5"
  }
 },
 "nbformat": 4,
 "nbformat_minor": 4
}
