{
 "cells": [
  {
   "cell_type": "code",
   "execution_count": 1,
   "metadata": {},
   "outputs": [],
   "source": [
    "%load_ext autoreload\n",
    "%autoreload 2"
   ]
  },
  {
   "cell_type": "code",
   "execution_count": 89,
   "metadata": {},
   "outputs": [],
   "source": [
    "import keras\n",
    "import pandas as pd\n",
    "import os\n",
    "import importlib\n",
    "from sklearn.linear_model import LinearRegression\n",
    "from sklearn.ensemble import RandomForestRegressor\n",
    "import sklearn.metrics\n",
    "from keras.callbacks import History\n",
    "import seaborn as sns\n",
    "\n",
    "try:\n",
    "    os.chdir('py')\n",
    "except FileNotFoundError:\n",
    "    pass\n",
    "import small\n",
    "from small import Splits as S\n",
    "from small import relu\n",
    "_ = importlib.reload(small)"
   ]
  },
  {
   "cell_type": "code",
   "execution_count": 87,
   "metadata": {},
   "outputs": [],
   "source": [
    "sns.set()\n",
    "sns.set_style(\"whitegrid\")"
   ]
  },
  {
   "cell_type": "code",
   "execution_count": 173,
   "metadata": {},
   "outputs": [],
   "source": [
    "handler = small.AbaloneHandler()\n",
    "df = handler.read()\n",
    "datasets = handler.split_and_apply_transforms(df)"
   ]
  },
  {
   "cell_type": "code",
   "execution_count": 185,
   "metadata": {},
   "outputs": [],
   "source": [
    "keras.backend.clear_session()\n",
    "relus = small.make_relu_stack(datasets[S.trn]['X'].shape[1], step=1)\n",
    "layers = small.interleave_dropout(relus, input_dropout=0.0, hidden_dropout=0.05)\n",
    "model = keras.Sequential(layers)\n",
    "model.compile(optimizer='adam', loss=keras.losses.MeanSquaredError())"
   ]
  },
  {
   "cell_type": "code",
   "execution_count": 187,
   "metadata": {},
   "outputs": [],
   "source": [
    "epochs = 1000\n",
    "batch_size = 16 * 4\n",
    "history = model.fit(\n",
    "    datasets[S.trn]['X'], datasets[S.trn]['y'], \n",
    "    epochs=epochs, \n",
    "    batch_size=batch_size, \n",
    "    callbacks=[History()], \n",
    "    verbose=0,\n",
    "    validation_data=(datasets[S.val]['X'], datasets[S.val]['y']))"
   ]
  },
  {
   "cell_type": "code",
   "execution_count": 188,
   "metadata": {},
   "outputs": [
    {
     "data": {
      "image/png": "[encoded data removed]",
      "text/plain": [
       "<Figure size 432x288 with 1 Axes>"
      ]
     },
     "metadata": {},
     "output_type": "display_data"
    }
   ],
   "source": [
    "loss_df = pd.DataFrame(history.history)\n",
    "loss_df['epoch'] = range(loss_df.shape[0])\n",
    "_ = sns.lineplot(x='epoch', y='loss', data=loss_df)\n",
    "_ = sns.lineplot(x='epoch', y='val_loss', data=loss_df)"
   ]
  },
  {
   "cell_type": "code",
   "execution_count": 104,
   "metadata": {},
   "outputs": [],
   "source": [
    "evaluator = small.RegressionEvaluator(datasets, sklearn.metrics.mean_squared_error)\n",
    "metrics = {}\n",
    "for m in small.Regressor:\n",
    "    model_to_evaluate = m.value()\n",
    "    metric_value = evaluator.evaluate_regressor(model_to_evaluate)\n",
    "    metrics[m.name] = metric_value"
   ]
  },
  {
   "cell_type": "code",
   "execution_count": 107,
   "metadata": {},
   "outputs": [
    {
     "data": {
      "text/plain": [
       "{'Linear': 4.863866282158875, 'RandomForest': 4.70776}"
      ]
     },
     "execution_count": 107,
     "metadata": {},
     "output_type": "execute_result"
    }
   ],
   "source": [
    "metrics"
   ]
  },
  {
   "cell_type": "code",
   "execution_count": 190,
   "metadata": {},
   "outputs": [
    {
     "data": {
      "text/plain": [
       "4.67494401572329"
      ]
     },
     "execution_count": 190,
     "metadata": {},
     "output_type": "execute_result"
    }
   ],
   "source": [
    "nn_pred = model.predict(datasets[S.val]['X'])\n",
    "sklearn.metrics.mean_squared_error(nn_pred, datasets[S.val]['y'])"
   ]
  },
  {
   "cell_type": "code",
   "execution_count": null,
   "metadata": {},
   "outputs": [],
   "source": []
  },
  {
   "cell_type": "code",
   "execution_count": null,
   "metadata": {},
   "outputs": [],
   "source": []
  }
 ],
 "metadata": {
  "kernelspec": {
   "display_name": "Python 3",
   "language": "python",
   "name": "python3"
  },
  "language_info": {
   "codemirror_mode": {
    "name": "ipython",
    "version": 3
   },
   "file_extension": ".py",
   "mimetype": "text/x-python",
   "name": "python",
   "nbconvert_exporter": "python",
   "pygments_lexer": "ipython3",
   "version": "3.8.5"
  }
 },
 "nbformat": 4,
 "nbformat_minor": 4
}
