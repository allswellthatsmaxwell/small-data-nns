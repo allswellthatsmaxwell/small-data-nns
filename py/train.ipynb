{
 "cells": [
  {
   "cell_type": "code",
   "execution_count": 1,
   "metadata": {},
   "outputs": [],
   "source": [
    "%load_ext autoreload\n",
    "%autoreload 2"
   ]
  },
  {
   "cell_type": "code",
   "execution_count": 214,
   "metadata": {},
   "outputs": [],
   "source": [
    "import keras\n",
    "import pandas as pd\n",
    "import os\n",
    "import importlib\n",
    "\n",
    "try:\n",
    "    os.chdir('py')\n",
    "except FileNotFoundError:\n",
    "    pass\n",
    "import small\n",
    "from small import Splits as S\n",
    "_ = importlib.reload(small)"
   ]
  },
  {
   "cell_type": "code",
   "execution_count": 199,
   "metadata": {},
   "outputs": [],
   "source": [
    "handler = small.AbaloneHandler()\n",
    "df = handler.read()\n",
    "datasets = handler.split_and_apply_transforms(df)"
   ]
  },
  {
   "cell_type": "code",
   "execution_count": 215,
   "metadata": {},
   "outputs": [],
   "source": [
    "input_dim = datasets[S.trn]['X'].shape[0]"
   ]
  },
  {
   "cell_type": "code",
   "execution_count": 236,
   "metadata": {},
   "outputs": [],
   "source": [
    "model = keras.Sequential([\n",
    "    keras.layers.Dense(8, activation=keras.activations.relu),\n",
    "    keras.layers.Dense(7, activation=keras.activations.relu),\n",
    "    keras.layers.Dense(6, activation=keras.activations.relu),\n",
    "    keras.layers.Dense(5, activation=keras.activations.relu),\n",
    "    keras.layers.Dense(4, activation=keras.activations.relu),\n",
    "    keras.layers.Dense(3, activation=keras.activations.relu),\n",
    "    keras.layers.Dense(2, activation=keras.activations.relu),\n",
    "    keras.layers.Dense(2, activation=keras.activations.relu)\n",
    "])\n",
    "model.compile(optimizer='adam', loss=keras.losses.MeanSquaredError())"
   ]
  },
  {
   "cell_type": "code",
   "execution_count": null,
   "metadata": {},
   "outputs": [],
   "source": [
    "model.fit(datasets[S.trn]['X'], datasets[S.trn]['y'], epochs=200)"
   ]
  },
  {
   "cell_type": "code",
   "execution_count": null,
   "metadata": {},
   "outputs": [],
   "source": []
  }
 ],
 "metadata": {
  "kernelspec": {
   "display_name": "Python 3",
   "language": "python",
   "name": "python3"
  },
  "language_info": {
   "codemirror_mode": {
    "name": "ipython",
    "version": 3
   },
   "file_extension": ".py",
   "mimetype": "text/x-python",
   "name": "python",
   "nbconvert_exporter": "python",
   "pygments_lexer": "ipython3",
   "version": "3.8.5"
  }
 },
 "nbformat": 4,
 "nbformat_minor": 4
}
